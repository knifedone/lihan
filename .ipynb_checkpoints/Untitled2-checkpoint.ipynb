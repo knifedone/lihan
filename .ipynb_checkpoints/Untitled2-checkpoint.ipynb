{
 "cells": [
  {
   "cell_type": "code",
   "execution_count": 67,
   "metadata": {},
   "outputs": [],
   "source": [
    "class Pynote(object):\n",
    "    def __init__(self,data):\n",
    "        self.data=data\n",
    "        self.left=None\n",
    "        self.right=None\n",
    "    \n",
    "def Insert(root,value):\n",
    "    if root is None:\n",
    "        root=Pynote(value)\n",
    "    else:\n",
    "        if value<root.data:\n",
    "            root.left=Insert(root.left,value)\n",
    "        elif value>root.data:\n",
    "            root.right=Insert(root.right,value)\n",
    "    return root\n",
    "\n",
    "def init_tree(data):\n",
    "    length=len(data)\n",
    "    root=Pynote(data[0])\n",
    "    for i in range(1,length):\n",
    "        print('init_tree',data[i])\n",
    "        Insert(root,data[i])\n",
    "    print('init done')\n",
    "    return root\n",
    "def PreOrder(root):\n",
    "    if root:\n",
    "        print(root.data)\n",
    "        PreOrder(root.left)\n",
    "        PreOrder(root.right)\n",
    "def MidOrder(root):\n",
    "    if root:\n",
    "        MidOrder(root.left)\n",
    "        print(root.data)\n",
    "        MidOrder(root.right)\n",
    "def BackOrder(root):\n",
    "\n",
    "    if root:\n",
    "        BackOrder(root.left)\n",
    "        BackOrder(root.right)\n",
    "        print(root.data)\n",
    "    return data\n",
    "def Search(data,root):\n",
    "    if root:\n",
    "        if root.data>data:\n",
    "            print('left')\n",
    "            return Search(data,root.left)\n",
    "        elif root.data<data:\n",
    "            print('right')\n",
    "            return Search(data,root.right)\n",
    "        else:\n",
    "            return root\n",
    "    else:\n",
    "        print('None')\n",
    "        return 'None'\n",
    "def build(pre,Mid):\n",
    "    print(pre,Mid)\n",
    "    root_data=pre[0]\n",
    "    node_new=Pynote(root_data)\n",
    "    print(root_data)\n",
    "    index=Mid.index(root_data)\n",
    "    left_length=index\n",
    "    print('left_length',left_length)\n",
    "    right_length=len(Mid)-index-1\n",
    "    print('right_length',right_length)\n",
    "    if left_length>0:\n",
    "        print('left')\n",
    "        node_new.left=build(pre[1:left_length+1],Mid[0:left_length])\n",
    "    if right_length>0:\n",
    "        print('right')\n",
    "        node_new.right=build(pre[left_length+1:right_length+left_length+1],Mid[index+1:right_length+index+1])\n",
    "    return node_new\n",
    "def query(root,val):  \n",
    "    if root is None:  \n",
    "        return ;  \n",
    "    if root.data is val:  \n",
    "        return root;  \n",
    "    if root.data <val:  \n",
    "        return query(root.right,val);  #递归地查询  \n",
    "    else:    \n",
    "        return query(root.left,val);  \n",
    "def find_min(root):\n",
    "    if root.left:\n",
    "        print(root.data)\n",
    "        return find_min(root.left)\n",
    "    else:\n",
    "        print('Done')\n",
    "        return root\n",
    "def find_max(root):\n",
    "    if root.right:\n",
    "        return find_max(root.right)\n",
    "    else:\n",
    "        return root\n",
    "def delete(root,val):\n",
    "    if root is None:\n",
    "        return \n",
    "    if root.val<val:\n",
    "        return delete(root.right,val)\n",
    "    elif root.val>val:\n",
    "        return delete(root.left,val)\n",
    "    else:\n",
    "        if (root.left and root.right):\n",
    "            temp=find_min(root.right)\n",
    "            root.data=temp.data\n",
    "            root.right=delete(root.right,val)\n",
    "        else:\n",
    "            if root.right is None:\n",
    "                root=root.left\n",
    "            elif root.left is None:\n",
    "                root=root.right\n",
    "    return root\n",
    "\n",
    "        "
   ]
  },
  {
   "cell_type": "code",
   "execution_count": 60,
   "metadata": {},
   "outputs": [
    {
     "name": "stdout",
     "output_type": "stream",
     "text": [
      "init_tree 3\n",
      "init_tree 1\n",
      "init_tree 2\n",
      "init_tree 8\n",
      "init_tree 7\n",
      "init_tree 16\n",
      "init_tree 10\n",
      "init_tree 9\n",
      "init_tree 14\n",
      "init done\n",
      "2\n",
      "1\n",
      "3\n",
      "7\n",
      "9\n",
      "14\n",
      "10\n",
      "16\n",
      "8\n",
      "4\n"
     ]
    },
    {
     "data": {
      "text/plain": [
       "[4, 3, 1, 2, 8, 7, 16, 10, 9, 14]"
      ]
     },
     "execution_count": 60,
     "metadata": {},
     "output_type": "execute_result"
    }
   ],
   "source": [
    "data=[4,3,1,2,8,7,16,10,9,14]\n",
    "tree=init_tree(data)\n",
    "\n",
    "BackOrder(tree)"
   ]
  },
  {
   "cell_type": "code",
   "execution_count": 61,
   "metadata": {},
   "outputs": [
    {
     "data": {
      "text/plain": [
       "<__main__.Pynote at 0x7fb058611ac8>"
      ]
     },
     "execution_count": 61,
     "metadata": {},
     "output_type": "execute_result"
    }
   ],
   "source": [
    "a"
   ]
  },
  {
   "cell_type": "code",
   "execution_count": 62,
   "metadata": {},
   "outputs": [
    {
     "name": "stdout",
     "output_type": "stream",
     "text": [
      "[4, 3, 1, 2, 8, 7, 16, 10, 9, 14] [1, 2, 3, 4, 7, 8, 9, 10, 14, 16]\n",
      "4\n",
      "left_length 3\n",
      "right_length 6\n",
      "left\n",
      "[3, 1, 2] [1, 2, 3]\n",
      "3\n",
      "left_length 2\n",
      "right_length 0\n",
      "left\n",
      "[1, 2] [1, 2]\n",
      "1\n",
      "left_length 0\n",
      "right_length 1\n",
      "right\n",
      "[2] [2]\n",
      "2\n",
      "left_length 0\n",
      "right_length 0\n",
      "right\n",
      "[8, 7, 16, 10, 9, 14] [7, 8, 9, 10, 14, 16]\n",
      "8\n",
      "left_length 1\n",
      "right_length 4\n",
      "left\n",
      "[7] [7]\n",
      "7\n",
      "left_length 0\n",
      "right_length 0\n",
      "right\n",
      "[16, 10, 9, 14] [9, 10, 14, 16]\n",
      "16\n",
      "left_length 3\n",
      "right_length 0\n",
      "left\n",
      "[10, 9, 14] [9, 10, 14]\n",
      "10\n",
      "left_length 1\n",
      "right_length 1\n",
      "left\n",
      "[9] [9]\n",
      "9\n",
      "left_length 0\n",
      "right_length 0\n",
      "right\n",
      "[14] [14]\n",
      "14\n",
      "left_length 0\n",
      "right_length 0\n"
     ]
    }
   ],
   "source": [
    "\n",
    "\n",
    "Pre=[4,3,1,2,8,7,16,10,9,14]\n",
    "Mid=[1,2,3,4,7,8,9,10,14,16]\n",
    "a=build(Pre,Mid)\n",
    "    "
   ]
  },
  {
   "cell_type": "code",
   "execution_count": 68,
   "metadata": {},
   "outputs": [
    {
     "data": {
      "text/plain": [
       "<__main__.Pynote at 0x7fb0585e5f60>"
      ]
     },
     "execution_count": 68,
     "metadata": {},
     "output_type": "execute_result"
    }
   ],
   "source": [
    "query(a,16)"
   ]
  },
  {
   "cell_type": "code",
   "execution_count": 56,
   "metadata": {},
   "outputs": [
    {
     "name": "stdout",
     "output_type": "stream",
     "text": [
      "2\n",
      "1\n",
      "3\n",
      "7\n",
      "9\n",
      "14\n",
      "10\n",
      "16\n",
      "8\n",
      "4\n"
     ]
    },
    {
     "data": {
      "text/plain": [
       "[4, 3, 1, 2, 8, 7, 16, 10, 9, 14]"
      ]
     },
     "execution_count": 56,
     "metadata": {},
     "output_type": "execute_result"
    }
   ],
   "source": [
    "BackOrder(a)"
   ]
  },
  {
   "cell_type": "code",
   "execution_count": 19,
   "metadata": {},
   "outputs": [
    {
     "name": "stdout",
     "output_type": "stream",
     "text": [
      "None\n"
     ]
    }
   ],
   "source": [
    "print(b)"
   ]
  },
  {
   "cell_type": "code",
   "execution_count": 64,
   "metadata": {},
   "outputs": [
    {
     "name": "stdout",
     "output_type": "stream",
     "text": [
      "4\n",
      "3\n",
      "Done\n"
     ]
    },
    {
     "data": {
      "text/plain": [
       "1"
      ]
     },
     "execution_count": 64,
     "metadata": {},
     "output_type": "execute_result"
    }
   ],
   "source": [
    "find_min(a).data"
   ]
  },
  {
   "cell_type": "code",
   "execution_count": null,
   "metadata": {
    "collapsed": true
   },
   "outputs": [],
   "source": []
  }
 ],
 "metadata": {
  "kernelspec": {
   "display_name": "Python 3",
   "language": "python",
   "name": "python3"
  },
  "language_info": {
   "codemirror_mode": {
    "name": "ipython",
    "version": 3
   },
   "file_extension": ".py",
   "mimetype": "text/x-python",
   "name": "python",
   "nbconvert_exporter": "python",
   "pygments_lexer": "ipython3",
   "version": "3.5.2"
  }
 },
 "nbformat": 4,
 "nbformat_minor": 2
}
