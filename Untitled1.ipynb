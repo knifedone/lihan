{
 "cells": [
  {
   "cell_type": "code",
   "execution_count": null,
   "metadata": {},
   "outputs": [],
   "source": [
    "from __future__ import print_function\n",
    "import tensorflow as tf\n",
    "from tensorflow.examples.tutorials.mnist import input_data\n",
    "# number 1 to 10 data\n",
    "mnist = input_data.read_data_sets('MNIST_data', one_hot=True)"
   ]
  },
  {
   "cell_type": "code",
   "execution_count": 1,
   "metadata": {},
   "outputs": [
    {
     "ename": "NameError",
     "evalue": "name 'tf' is not defined",
     "traceback": [
      "\u001b[0;31m---------------------------------------------------------------------------\u001b[0m",
      "\u001b[0;31mNameError\u001b[0m                                 Traceback (most recent call last)",
      "\u001b[0;32m<ipython-input-1-1aa3e4946e7f>\u001b[0m in \u001b[0;36m<module>\u001b[0;34m()\u001b[0m\n\u001b[1;32m     13\u001b[0m \u001b[0;34m\u001b[0m\u001b[0m\n\u001b[1;32m     14\u001b[0m \u001b[0;34m\u001b[0m\u001b[0m\n\u001b[0;32m---> 15\u001b[0;31m \u001b[0;32mwith\u001b[0m \u001b[0mtf\u001b[0m\u001b[0;34m.\u001b[0m\u001b[0mname_scope\u001b[0m\u001b[0;34m(\u001b[0m\u001b[0;34m'inputs'\u001b[0m\u001b[0;34m)\u001b[0m\u001b[0;34m:\u001b[0m\u001b[0;34m\u001b[0m\u001b[0m\n\u001b[0m\u001b[1;32m     16\u001b[0m     \u001b[0mxs\u001b[0m \u001b[0;34m=\u001b[0m \u001b[0mtf\u001b[0m\u001b[0;34m.\u001b[0m\u001b[0mplaceholder\u001b[0m\u001b[0;34m(\u001b[0m\u001b[0mtf\u001b[0m\u001b[0;34m.\u001b[0m\u001b[0mfloat32\u001b[0m\u001b[0;34m,\u001b[0m \u001b[0;34m[\u001b[0m\u001b[0;32mNone\u001b[0m\u001b[0;34m,\u001b[0m \u001b[0;36m784\u001b[0m\u001b[0;34m]\u001b[0m\u001b[0;34m)\u001b[0m \u001b[0;31m# 28x28\u001b[0m\u001b[0;34m\u001b[0m\u001b[0m\n\u001b[1;32m     17\u001b[0m     \u001b[0mys\u001b[0m \u001b[0;34m=\u001b[0m \u001b[0mtf\u001b[0m\u001b[0;34m.\u001b[0m\u001b[0mplaceholder\u001b[0m\u001b[0;34m(\u001b[0m\u001b[0mtf\u001b[0m\u001b[0;34m.\u001b[0m\u001b[0mfloat32\u001b[0m\u001b[0;34m,\u001b[0m \u001b[0;34m[\u001b[0m\u001b[0;32mNone\u001b[0m\u001b[0;34m,\u001b[0m \u001b[0;36m10\u001b[0m\u001b[0;34m]\u001b[0m\u001b[0;34m)\u001b[0m\u001b[0;34m\u001b[0m\u001b[0m\n",
      "\u001b[0;31mNameError\u001b[0m: name 'tf' is not defined"
     ],
     "output_type": "error"
    }
   ],
   "source": [
    "def compute_accuracy(v_xs, v_ys):\n",
    "    global prediction1\n",
    "    global prediction2\n",
    "    y_pre1 = sess.run(prediction1, feed_dict={xs: v_xs})\n",
    "    y_pre2 = sess.run(prediction2, feed_dict={xs: v_xs})\n",
    "    correct_prediction1 = tf.equal(tf.argmax(y_pre1,1), tf.argmax(v_ys,1))\n",
    "    correct_prediction2 = tf.equal(tf.argmax(y_pre2,1), tf.argmax(v_ys,1))\n",
    "    accuracy1 = tf.reduce_mean(tf.cast(correct_prediction1, tf.float32))\n",
    "    accuracy2 = tf.reduce_mean(tf.cast(correct_prediction2, tf.float32))\n",
    "    result1 = sess.run(accuracy1, feed_dict={xs: v_xs, ys: v_ys})\n",
    "    result2 = sess.run(accuracy2, feed_dict={xs: v_xs, ys: v_ys})\n",
    "    return result1,result2\n",
    "\n",
    "\n",
    "with tf.name_scope('inputs'):\n",
    "    xs = tf.placeholder(tf.float32, [None, 784]) # 28x28\n",
    "    ys = tf.placeholder(tf.float32, [None, 10])\n",
    "\n",
    "\n",
    "prediction1=tf.layers.dense( inputs=xs,units=10,\n",
    "                            activation=tf.nn.softmax,\n",
    "                            kernel_initializer=tf.random_normal_initializer(mean=0, stddev=0.3),\n",
    "                            bias_initializer=tf.constant_initializer(0.1),\n",
    "                            name='fc1_1')\n",
    "temp=tf.layers.dense( inputs=xs,units=100,\n",
    "                            activation=tf.nn.tanh,\n",
    "                            kernel_initializer=tf.random_normal_initializer(mean=0, stddev=0.3),\n",
    "                            bias_initializer=tf.constant_initializer(0.1),\n",
    "                            name='fc2_1')\n",
    "prediction2=tf.layers.dense( inputs=temp,units=10,\n",
    "                            activation=tf.nn.softmax,\n",
    "                            kernel_initializer=tf.random_normal_initializer(mean=0, stddev=0.3),\n",
    "                            bias_initializer=tf.constant_initializer(0.1),\n",
    "                            name='fc2_2')\n",
    "with tf.name_scope('loss1'):\n",
    "    cross_entropy1 = tf.reduce_mean(-tf.reduce_sum(ys * tf.log(prediction1),\n",
    "    reduction_indices=[1])) # loss\n",
    "with tf.name_scope('loss1'):\n",
    "    cross_entropy2 = tf.reduce_mean(-tf.reduce_sum(ys * tf.log(prediction2),reduction_indices=[1])) # loss\n",
    "\n",
    "train_step1 = tf.train.GradientDescentOptimizer(0.5).minimize(cross_entropy1)\n",
    "train_step2 = tf.train.GradientDescentOptimizer(0.5).minimize(cross_entropy2)\n",
    "\n",
    "gpu_options = tf.GPUOptions(per_process_gpu_memory_fraction=0.2)\n",
    "sess = tf.Session(config=tf.ConfigProto(gpu_options=gpu_options))\n",
    "writer = tf.summary.FileWriter(\"logs/\", sess.graph)\n",
    "init = tf.global_variables_initializer()\n",
    "sess.run(init)\n",
    "\n",
    "for i in range(1000):\n",
    "    batch_xs, batch_ys = mnist.train.next_batch(100)\n",
    "    sess.run(train_step1, feed_dict={xs: batch_xs, ys: batch_ys})\n",
    "    sess.run(train_step2, feed_dict={xs: batch_xs, ys: batch_ys})\n",
    "    if i % 50 == 0:\n",
    "        print(compute_accuracy(mnist.test.images, mnist.test.labels))"
   ]
  },
  {
   "cell_type": "code",
   "execution_count": 1,
   "metadata": {
    "collapsed": true
   },
   "outputs": [],
   "source": [
    "import tensorflow as tf"
   ]
  },
  {
   "cell_type": "code",
   "execution_count": 2,
   "metadata": {},
   "outputs": [],
   "source": [
    "def build_layers(s, c_names, n_l1, w_initializer, b_initializer):\n",
    "    with tf.variable_scope('l1'):\n",
    "        w1 = tf.get_variable('w1', [6, n_l1], initializer=w_initializer, collections=c_names)\n",
    "        b1 = tf.get_variable('b1', [1, n_l1], initializer=b_initializer, collections=c_names)\n",
    "        l1 = tf.nn.relu(tf.matmul(s, w1) + b1)\n",
    "\n",
    "#         if self.dueling:\n",
    "#                 # Dueling DQN\n",
    "#                 with tf.variable_scope('Value'):\n",
    "#                     w2 = tf.get_variable('w2', [n_l1, 1], initializer=w_initializer, collections=c_names)\n",
    "#                     b2 = tf.get_variable('b2', [1, 1], initializer=b_initializer, collections=c_names)\n",
    "#                     self.V = tf.matmul(l1, w2) + b2\n",
    "\n",
    "#                 with tf.variable_scope('Advantage'):\n",
    "#                     w2 = tf.get_variable('w2', [n_l1, self.n_actions], initializer=w_initializer, collections=c_names)\n",
    "#                     b2 = tf.get_variable('b2', [1, self.n_actions], initializer=b_initializer, collections=c_names)\n",
    "#                     self.A = tf.matmul(l1, w2) + b2\n",
    "\n",
    "#                 with tf.variable_scope('Q'):\n",
    "#                     out = self.V + (self.A - tf.reduce_mean(self.A, axis=1, keep_dims=True))     # Q = V(s) + A(s,a)\n",
    "#             else:\n",
    "    with tf.variable_scope('Q'):\n",
    "        w2 = tf.get_variable('w2', [n_l1, 2], initializer=w_initializer, collections=c_names)\n",
    "        b2 = tf.get_variable('b2', [1, 2], initializer=b_initializer, collections=c_names)\n",
    "        out = tf.matmul(l1, w2) + b2\n",
    "\n",
    "    return out"
   ]
  },
  {
   "cell_type": "code",
   "execution_count": 3,
   "metadata": {},
   "outputs": [
    {
     "data": {
      "text/plain": [
       "<tensorflow.python.summary.writer.writer.FileWriter at 0x7fd383137dd8>"
      ]
     },
     "execution_count": 3,
     "metadata": {},
     "output_type": "execute_result"
    }
   ],
   "source": [
    "s=[]\n",
    "q_target=[]\n",
    "q_eval=[]\n",
    "loss=[]\n",
    "_train_op=[]\n",
    "for i in range(3):\n",
    "    s.append(tf.placeholder(tf.float32,[None,6],name='s'+str(i)))\n",
    "    q_target.append(tf.placeholder(tf.float32, [None, 2], name='Q_target'+str(i)))\n",
    "for i in range(3):\n",
    "    with tf.variable_scope('eval_net'+str(i)):\n",
    "        c_names, n_l1, w_initializer, b_initializer = \\\n",
    "                    ['eval_net_params'+str(i), tf.GraphKeys.GLOBAL_VARIABLES], 20, \\\n",
    "                    tf.random_normal_initializer(0., 0.3), tf.constant_initializer(0.1)  # config of layers\n",
    "\n",
    "        q_eval.append(build_layers(s[i], c_names, n_l1, w_initializer, b_initializer))\n",
    "        \n",
    "    with tf.variable_scope('loss'+str(i)):\n",
    "        loss.append(tf.reduce_mean(tf.squared_difference(q_target[i], q_eval[i])))\n",
    "for i in range(3):\n",
    "    with tf.variable_scope('train'+str(i)):\n",
    "        _train_op.append(tf.train.RMSPropOptimizer(learning_rate=0.003).minimize(loss[i]))\n",
    "gpu_options = tf.GPUOptions(per_process_gpu_memory_fraction=0.2)\n",
    "sess = tf.Session(config=tf.ConfigProto(gpu_options=gpu_options))\n",
    "sess.run(tf.global_variables_initializer())\n",
    "tf.summary.FileWriter(\"logs/\", sess.graph)"
   ]
  },
  {
   "cell_type": "code",
   "execution_count": null,
   "metadata": {
    "collapsed": true
   },
   "outputs": [],
   "source": [
    ""
   ]
  }
 ],
 "metadata": {
  "kernelspec": {
   "display_name": "Python 3",
   "language": "python",
   "name": "python3"
  },
  "language_info": {
   "codemirror_mode": {
    "name": "ipython",
    "version": 3.0
   },
   "file_extension": ".py",
   "mimetype": "text/x-python",
   "name": "python",
   "nbconvert_exporter": "python",
   "pygments_lexer": "ipython3",
   "version": "3.5.2"
  }
 },
 "nbformat": 4,
 "nbformat_minor": 0
}