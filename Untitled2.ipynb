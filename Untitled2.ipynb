{
 "cells": [
  {
   "cell_type": "code",
   "execution_count": 52,
   "metadata": {},
   "outputs": [
    {
     "name": "stdout",
     "output_type": "stream",
     "text": [
      "1\n",
      "None\n"
     ]
    }
   ],
   "source": [
    "class TreeNode:  \n",
    "    def __init__(self,val):  \n",
    "        self.val=val;  \n",
    "        self.left=None;  \n",
    "        self.right=None;  \n",
    "def insert(root,val):  \n",
    "    if root is None:  \n",
    "        root=TreeNode(val);  \n",
    "    else:  \n",
    "        if val<root.val:  \n",
    "            root.left=insert(root.left,val);   #递归地插入元素  \n",
    "        elif val>root.val:  \n",
    "            root.right=insert(root.right,val);    \n",
    "    return root;  \n",
    "  \n",
    "def query(root,val):  \n",
    "    if root is None:  \n",
    "        return ;  \n",
    "    if root.val is val:  \n",
    "        return 1;  \n",
    "    if root.val <val:  \n",
    "        return query(root.right,val);  #递归地查询  \n",
    "    else:    \n",
    "        return query(root.left,val);  \n",
    "def findmin(root):  \n",
    "    if root.left:  \n",
    "        return findmin(root.left);  \n",
    "    else:  \n",
    "        return root;  \n",
    "      \n",
    "def delnum(root,val):  \n",
    "    if root is None:  \n",
    "        return ;  \n",
    "    if val<root.val:  \n",
    "        return delnum(root.left,val);  \n",
    "    elif val>root.val:  \n",
    "        return delnum(root.right,val);  \n",
    "    else:                                             # 删除要区分左右孩子是否为空的情况  \n",
    "        if(root.left and root.right):  \n",
    "              \n",
    "            tmp=finmin(root.right);             #找到后继结点  \n",
    "            root.val=tmp.val;  \n",
    "            root.right=delnum(root.right,val);    #实际删除的是这个后继结点  \n",
    "              \n",
    "        else:  \n",
    "            if root.left is None:  \n",
    "                root=root.right;  \n",
    "            elif root.right is None:  \n",
    "                root=root.left;  \n",
    "    return root;  \n",
    "                  \n",
    "                  \n",
    "#测试代码             \n",
    "root=TreeNode(3);  \n",
    "root=insert(root,2);  \n",
    "root=insert(root,1);  \n",
    "root=insert(root,4);  \n",
    "\n",
    "print (query(root,1));  \n",
    "root=delnum(root,1);  \n",
    "print (query(root,1)); "
   ]
  },
  {
   "cell_type": "code",
   "execution_count": 43,
   "metadata": {},
   "outputs": [
    {
     "name": "stdout",
     "output_type": "stream",
     "text": [
      "[4, 3, 1, 2, 8, 7, 16, 10, 9, 14] [1, 2, 3, 4, 7, 8, 9, 10, 14, 16]\n",
      "4\n",
      "left_length 3\n",
      "right_length 6\n",
      "left\n",
      "[3, 1, 2] [1, 2, 3]\n",
      "3\n",
      "left_length 2\n",
      "right_length 0\n",
      "left\n",
      "[1, 2] [1, 2]\n",
      "1\n",
      "left_length 0\n",
      "right_length 1\n",
      "right\n",
      "[2] [2]\n",
      "2\n",
      "left_length 0\n",
      "right_length 0\n",
      "right\n",
      "[8, 7, 16, 10, 9, 14] [7, 8, 9, 10, 14, 16]\n",
      "8\n",
      "left_length 1\n",
      "right_length 4\n",
      "left\n",
      "[7] [7]\n",
      "7\n",
      "left_length 0\n",
      "right_length 0\n",
      "right\n",
      "[16, 10, 9, 14] [9, 10, 14, 16]\n",
      "16\n",
      "left_length 3\n",
      "right_length 0\n",
      "left\n",
      "[10, 9, 14] [9, 10, 14]\n",
      "10\n",
      "left_length 1\n",
      "right_length 1\n",
      "left\n",
      "[9] [9]\n",
      "9\n",
      "left_length 0\n",
      "right_length 0\n",
      "right\n",
      "[14] [14]\n",
      "14\n",
      "left_length 0\n",
      "right_length 0\n"
     ]
    }
   ],
   "source": [
    "\n",
    "\n",
    "Pre=[4,3,1,2,8,7,16,10,9,14]\n",
    "Mid=[1,2,3,4,7,8,9,10,14,16]\n",
    "a=build(Pre,Mid)\n",
    "    "
   ]
  },
  {
   "cell_type": "code",
   "execution_count": 31,
   "metadata": {},
   "outputs": [
    {
     "name": "stdout",
     "output_type": "stream",
     "text": [
      "init_tree 3\n",
      "init_tree 1\n",
      "init_tree 2\n",
      "init_tree 8\n",
      "init_tree 7\n",
      "init_tree 16\n",
      "init_tree 10\n",
      "init_tree 9\n",
      "init_tree 14\n",
      "init done\n"
     ]
    }
   ],
   "source": [
    "a=Tree(Pre)\n"
   ]
  },
  {
   "cell_type": "code",
   "execution_count": 44,
   "metadata": {},
   "outputs": [
    {
     "ename": "AttributeError",
     "evalue": "'Pynote' object has no attribute 'PreOrder'",
     "output_type": "error",
     "traceback": [
      "\u001b[0;31m---------------------------------------------------------------------------\u001b[0m",
      "\u001b[0;31mAttributeError\u001b[0m                            Traceback (most recent call last)",
      "\u001b[0;32m<ipython-input-44-615904dcfed2>\u001b[0m in \u001b[0;36m<module>\u001b[0;34m()\u001b[0m\n\u001b[0;32m----> 1\u001b[0;31m \u001b[0ma\u001b[0m\u001b[0;34m.\u001b[0m\u001b[0mPreOrder\u001b[0m\u001b[0;34m(\u001b[0m\u001b[0;34m)\u001b[0m\u001b[0;34m\u001b[0m\u001b[0m\n\u001b[0m",
      "\u001b[0;31mAttributeError\u001b[0m: 'Pynote' object has no attribute 'PreOrder'"
     ]
    }
   ],
   "source": [
    "a.PreOrder()"
   ]
  },
  {
   "cell_type": "code",
   "execution_count": 48,
   "metadata": {},
   "outputs": [
    {
     "name": "stdout",
     "output_type": "stream",
     "text": [
      "4\n",
      "3\n",
      "1\n",
      "2\n",
      "8\n",
      "7\n",
      "16\n",
      "10\n",
      "9\n",
      "14\n",
      "<__main__.Pynote object at 0x7ff8bc40e128>\n",
      "4\n",
      "3\n",
      "1\n",
      "2\n",
      "<__main__.Pynote object at 0x7ff8bc406080>\n",
      "3\n",
      "1\n",
      "2\n",
      "<__main__.Pynote object at 0x7ff8bc406550>\n",
      "root.data 1\n",
      "2\n",
      "<__main__.Pynote object at 0x7ff8bc57ecc0>\n",
      "root.right is None\n",
      "None\n"
     ]
    }
   ],
   "source": [
    "delete(a,2)"
   ]
  },
  {
   "cell_type": "code",
   "execution_count": 7,
   "metadata": {},
   "outputs": [
    {
     "name": "stdout",
     "output_type": "stream",
     "text": [
      "4\n",
      "3\n",
      "Done\n"
     ]
    },
    {
     "data": {
      "text/plain": [
       "1"
      ]
     },
     "execution_count": 7,
     "metadata": {},
     "output_type": "execute_result"
    }
   ],
   "source": [
    "find_min(a).data"
   ]
  },
  {
   "cell_type": "code",
   "execution_count": 20,
   "metadata": {},
   "outputs": [
    {
     "name": "stdout",
     "output_type": "stream",
     "text": [
      "4\n",
      "3\n",
      "1\n",
      "root.right is None\n",
      "None\n"
     ]
    }
   ],
   "source": [
    "delete(a,2)"
   ]
  },
  {
   "cell_type": "code",
   "execution_count": 21,
   "metadata": {},
   "outputs": [
    {
     "name": "stdout",
     "output_type": "stream",
     "text": [
      "2\n",
      "1\n",
      "3\n",
      "7\n",
      "9\n",
      "14\n",
      "10\n",
      "16\n",
      "8\n",
      "4\n"
     ]
    },
    {
     "data": {
      "text/plain": [
       "<__main__.Pynote at 0x7ff8bc549fd0>"
      ]
     },
     "execution_count": 21,
     "metadata": {},
     "output_type": "execute_result"
    }
   ],
   "source": [
    "BackOrder(a)"
   ]
  },
  {
   "cell_type": "code",
   "execution_count": 15,
   "metadata": {},
   "outputs": [
    {
     "name": "stdout",
     "output_type": "stream",
     "text": [
      "4\n",
      "3\n",
      "1\n",
      "2\n",
      "8\n",
      "7\n",
      "16\n",
      "10\n",
      "9\n",
      "14\n"
     ]
    },
    {
     "data": {
      "text/plain": [
       "<__main__.Pynote at 0x7ff8bc5acb70>"
      ]
     },
     "execution_count": 15,
     "metadata": {},
     "output_type": "execute_result"
    }
   ],
   "source": [
    "PreOrder(b)"
   ]
  },
  {
   "cell_type": "code",
   "execution_count": 34,
   "metadata": {
    "collapsed": true
   },
   "outputs": [],
   "source": [
    "root=Pynote(10)\n",
    "root.left=Pynote(5)\n",
    "root.right=Pynote(4)"
   ]
  },
  {
   "cell_type": "code",
   "execution_count": 40,
   "metadata": {},
   "outputs": [
    {
     "name": "stdout",
     "output_type": "stream",
     "text": [
      "5\n",
      "4\n",
      "74\n",
      "4\n"
     ]
    }
   ],
   "source": [
    "root=Pynote(10)\n",
    "root.left=Pynote(5)\n",
    "root.right=Pynote(4)\n",
    "a=root\n",
    "print(a.left.data)\n",
    "print(a.right.data)\n",
    "root.left.data=74\n",
    "print(a.left.data)\n",
    "print(a.right.data)"
   ]
  },
  {
   "cell_type": "code",
   "execution_count": null,
   "metadata": {
    "collapsed": true
   },
   "outputs": [],
   "source": []
  }
 ],
 "metadata": {
  "kernelspec": {
   "display_name": "Python 3",
   "language": "python",
   "name": "python3"
  },
  "language_info": {
   "codemirror_mode": {
    "name": "ipython",
    "version": 3
   },
   "file_extension": ".py",
   "mimetype": "text/x-python",
   "name": "python",
   "nbconvert_exporter": "python",
   "pygments_lexer": "ipython3",
   "version": "3.5.2"
  }
 },
 "nbformat": 4,
 "nbformat_minor": 2
}
